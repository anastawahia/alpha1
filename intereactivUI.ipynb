{
 "cells": [
  {
   "cell_type": "code",
   "execution_count": 5,
   "id": "e20be950",
   "metadata": {},
   "outputs": [
    {
     "name": "stdout",
     "output_type": "stream",
     "text": [
      "Building/updating index from: D:\\attarat\\only-text\\storage\n"
     ]
    },
    {
     "name": "stderr",
     "output_type": "stream",
     "text": [
      "2025-08-30 06:59:49,705 - INFO - Loading llama_index.vector_stores.faiss.base from D:\\attarat\\only-text\\storage\\default__vector_store.json.\n",
      "2025-08-30 06:59:49,746 - INFO - Loading all indices.\n"
     ]
    },
    {
     "name": "stdout",
     "output_type": "stream",
     "text": [
      "Creating fresh storage...\n",
      "Loading llama_index.core.storage.kvstore.simple_kvstore from D:\\attarat\\only-text\\storage\\docstore.json.\n",
      "Loading llama_index.core.storage.kvstore.simple_kvstore from D:\\attarat\\only-text\\storage\\index_store.json.\n",
      "Incremental update: loading existing index and inserting changed docs only...\n",
      "No changes detected; index is up to date.\n",
      "Using embedding dimension: 384\n",
      "Storage initialized with empty FAISS index.\n",
      "⚠️ Creating new index...\n"
     ]
    },
    {
     "data": {
      "application/vnd.jupyter.widget-view+json": {
       "model_id": "5fb78cd37bfd4ecdb3784daddcc6a55e",
       "version_major": 2,
       "version_minor": 0
      },
      "text/plain": [
       "Parsing nodes:   0%|          | 0/44 [00:00<?, ?it/s]"
      ]
     },
     "metadata": {},
     "output_type": "display_data"
    },
    {
     "data": {
      "application/vnd.jupyter.widget-view+json": {
       "model_id": "e7ecb784de304a9f9fd3528916aa037a",
       "version_major": 2,
       "version_minor": 0
      },
      "text/plain": [
       "Generating embeddings:   0%|          | 0/44 [00:00<?, ?it/s]"
      ]
     },
     "metadata": {},
     "output_type": "display_data"
    },
    {
     "name": "stderr",
     "output_type": "stream",
     "text": [
      "2025-08-30 06:59:50,149 - INFO - Loading llama_index.vector_stores.faiss.base from D:\\attarat\\only-text\\storage\\default__vector_store.json.\n",
      "2025-08-30 06:59:50,175 - INFO - Loading llama_index.vector_stores.faiss.base from D:\\attarat\\only-text\\storage\\default__vector_store.json.\n"
     ]
    },
    {
     "name": "stdout",
     "output_type": "stream",
     "text": [
      "\n",
      "Processing 44 documents...\n",
      "✓ Index built and persisted.\n",
      "\n",
      "Quick checks...\n",
      "OK: Storage folder found.\n",
      "Total vectors in FAISS index: 44\n",
      "\n",
      "Verifying coverage...\n",
      "Files in data: 1\n",
      "Files recorded in storage (manifest hits): 1\n",
      "FAISS vectors: 44\n",
      "\n",
      "Done.\n"
     ]
    }
   ],
   "source": [
    "\n",
    "# === Cell 1: Build / Update index ===\n",
    "# Make sure this notebook sits next to `app.py`, or adjust the path below.\n",
    "import sys, os\n",
    "from pathlib import Path\n",
    "\n",
    "# Add current dir to path so we can import app.py\n",
    "nb_dir = Path.cwd()\n",
    "if str(nb_dir) not in sys.path:\n",
    "    sys.path.insert(0, str(nb_dir))\n",
    "\n",
    "from app import (\n",
    "    build_or_update_index, check_storage, verify_coverage, STORAGE_DIR\n",
    ")\n",
    "\n",
    "print(\"Building/updating index from:\", STORAGE_DIR)\n",
    "index = build_or_update_index(STORAGE_DIR)\n",
    "\n",
    "print(\"\\nQuick checks...\")\n",
    "check_storage()\n",
    "print(\"\\nVerifying coverage...\")\n",
    "coverage = verify_coverage(verbose=True)\n",
    "print(\"\\nDone.\")\n"
   ]
  },
  {
   "cell_type": "code",
   "execution_count": 8,
   "id": "5cd5562e",
   "metadata": {},
   "outputs": [
    {
     "name": "stdout",
     "output_type": "stream",
     "text": [
      "[Embeddings] device=cuda batch=128\n"
     ]
    }
   ],
   "source": [
    "\n",
    "# === Cell 2: Ask (programmatic) ===\n",
    "\n",
    "import importlib, app; importlib.reload(app)\n",
    "app.set_model(\"llama3.2:1b\") \n",
    "#=======================\n",
    "\n",
    "from app import ask_one\n",
    "\n",
    "def ask(query: str,\n",
    "        top_k: int = 6,\n",
    "        restrict: str | None = None,   # None | \"excel\" | \"csv\" | \"unstructured\" | \"all\"\n",
    "        file: str | None = None,\n",
    "        sheet: str | None = None,\n",
    "        include_sources: bool = True):\n",
    "    \"\"\"\n",
    "    Ask the indexed data. Use `restrict`, `file`, `sheet` to narrow the scope.\n",
    "    - restrict: None | \"excel\" | \"csv\" | \"unstructured\" | \"all\"\n",
    "    - file:     target file name (e.g., 'plant.xlsx' or 'report.pdf')\n",
    "    - sheet:    Excel sheet name (only for Excel queries)\n",
    "    \"\"\"\n",
    "    return ask_one(\n",
    "        query=query,\n",
    "        top_k=top_k,\n",
    "        include_sources=include_sources,\n",
    "        restrict=restrict,\n",
    "        file=file,\n",
    "        sheet=sheet,\n",
    "    )\n",
    "\n",
    "# Example usage (uncomment to try after building index):\n",
    "# print(ask(\"Summarize key findings.\"))\n",
    "# print(ask(\"List top 5 rows by 'Power'\", restrict=\"csv\"))\n",
    "# print(ask(\"Which rows have highest 'Voltage'?\", restrict=\"excel\", file=\"plant.xlsx\", sheet=\"Sheet1\"))\n"
   ]
  },
  {
   "cell_type": "code",
   "execution_count": 9,
   "id": "922f72bd",
   "metadata": {},
   "outputs": [
    {
     "data": {
      "application/vnd.jupyter.widget-view+json": {
       "model_id": "3eb865cb4029454b8c02ff3aa826c7a0",
       "version_major": 2,
       "version_minor": 0
      },
      "text/plain": [
       "VBox(children=(Textarea(value='', description='Question', layout=Layout(height='90px', width='100%'), placehol…"
      ]
     },
     "metadata": {},
     "output_type": "display_data"
    },
    {
     "data": {
      "application/vnd.jupyter.widget-view+json": {
       "model_id": "a2d99d478fbf45a79303f78447746131",
       "version_major": 2,
       "version_minor": 0
      },
      "text/plain": [
       "Output(layout=Layout(border_bottom='1px solid var(--jp-layout-color2)', border_left='1px solid var(--jp-layout…"
      ]
     },
     "metadata": {},
     "output_type": "display_data"
    }
   ],
   "source": [
    "# === Cell 3: Interactive Q&A (widgets) ===\n",
    "# Requires: ipywidgets\n",
    "# If not installed: pip install ipywidgets && enable widgets extension in your Jupyter environment\n",
    "import ipywidgets as widgets\n",
    "from IPython.display import display, Markdown, clear_output\n",
    "\n",
    "q_input = widgets.Textarea(\n",
    "    value=\"\",\n",
    "    placeholder=\"Type your question here...\",\n",
    "    description=\"Question\",\n",
    "    layout=widgets.Layout(width=\"100%\", height=\"90px\")\n",
    ")\n",
    "\n",
    "topk_slider = widgets.IntSlider(\n",
    "    value=6, min=1, max=20, step=1, description=\"Top-K\"\n",
    ")\n",
    "\n",
    "run_btn = widgets.Button(\n",
    "    description=\"Ask\",\n",
    "    button_style=\"primary\",\n",
    "    tooltip=\"Run query\"\n",
    ")\n",
    "\n",
    "out = widgets.Output(layout={\"border\": \"1px solid var(--jp-layout-color2)\"})\n",
    "controls = widgets.VBox([q_input, topk_slider, run_btn])\n",
    "display(controls, out)\n",
    "\n",
    "def on_run_clicked(b):\n",
    "    with out:\n",
    "        clear_output()\n",
    "        query = q_input.value.strip()\n",
    "        if not query:\n",
    "            display(Markdown(\"**Please enter a question.**\"))\n",
    "            return\n",
    "        try:\n",
    "            resp = ask(query=query, top_k=topk_slider.value)\n",
    "            display(Markdown(f\"### Result\\n\\n{resp}\"))\n",
    "        except Exception as e:\n",
    "            display(Markdown(f\"**Error:** `{e}`\"))\n",
    "\n",
    "run_btn.on_click(on_run_clicked)\n"
   ]
  }
 ],
 "metadata": {
  "kernelspec": {
   "display_name": ".venv (3.11.9)",
   "language": "python",
   "name": "python3"
  },
  "language_info": {
   "codemirror_mode": {
    "name": "ipython",
    "version": 3
   },
   "file_extension": ".py",
   "mimetype": "text/x-python",
   "name": "python",
   "nbconvert_exporter": "python",
   "pygments_lexer": "ipython3",
   "version": "3.11.9"
  }
 },
 "nbformat": 4,
 "nbformat_minor": 5
}
